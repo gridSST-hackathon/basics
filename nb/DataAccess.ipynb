{
 "cells": [
  {
   "cell_type": "markdown",
   "id": "61c18dd6-de35-4644-85c2-3bb0189f09f0",
   "metadata": {},
   "source": [
    "# Accessing data via AWS"
   ]
  },
  {
   "cell_type": "code",
   "execution_count": 1,
   "id": "5bea12c7-4391-467b-94f5-a3d590e528cf",
   "metadata": {},
   "outputs": [],
   "source": [
    "# Standard imports\n",
    "from http.cookiejar import CookieJar\n",
    "import netrc\n",
    "from socket import gethostname, gethostbyname\n",
    "from urllib import request\n",
    "\n",
    "# Third-party imports\n",
    "import requests"
   ]
  },
  {
   "cell_type": "markdown",
   "id": "285c5a3d-a095-41b8-bfa8-12c2a726e9aa",
   "metadata": {},
   "source": [
    "# Class taken from https://github.com/podaac/the-coding-club/blob/main/src/S3List.py"
   ]
  },
  {
   "cell_type": "code",
   "execution_count": 2,
   "id": "3ac7c148-1720-47a9-8c02-dbb591741e91",
   "metadata": {},
   "outputs": [],
   "source": [
    "class S3List:\n",
    "    \"\"\"Class used to query and download from PO.DAAC's CMR API.\n",
    "    \"\"\"\n",
    "\n",
    "    CMR = \"cmr.earthdata.nasa.gov\"\n",
    "    URS = \"urs.earthdata.nasa.gov\"\n",
    "\n",
    "    def __init__(self):\n",
    "        self._token = None\n",
    "\n",
    "    def login(self):\n",
    "        \"\"\"Log into Earthdata and set up request library to track cookies.\n",
    "        \n",
    "        Raises an exception if can't authenticate with .netrc file.\n",
    "        \"\"\"\n",
    "\n",
    "        try:\n",
    "            username, _, password = netrc.netrc().authenticators(self.URS)\n",
    "        except (FileNotFoundError, TypeError):\n",
    "            raise Exception(\"ERROR: There not .netrc file or endpoint indicated in .netrc file.\")\n",
    "\n",
    "        # Create Earthdata authentication request\n",
    "        manager = request.HTTPPasswordMgrWithDefaultRealm()\n",
    "        manager.add_password(None, self.URS, username, password)\n",
    "        auth = request.HTTPBasicAuthHandler(manager)\n",
    "\n",
    "        # Set up the storage of cookies\n",
    "        jar = CookieJar()\n",
    "        processor = request.HTTPCookieProcessor(jar)\n",
    "\n",
    "        # Define an opener to handle fetching auth request\n",
    "        opener = request.build_opener(auth, processor)\n",
    "        request.install_opener(opener)\n",
    "\n",
    "    def get_token(self, client_id, ip_address):\n",
    "        \"\"\"Get CMR authentication token for searching records.\n",
    "        \n",
    "        Parameters\n",
    "        ----------\n",
    "        client_id: str\n",
    "            client identifier to obtain token\n",
    "        ip_address: str\n",
    "            client's IP address\n",
    "        \"\"\"\n",
    "\n",
    "        try:\n",
    "            username, _, password = netrc.netrc().authenticators(self.URS)\n",
    "        except (FileNotFoundError, TypeError) as error:\n",
    "            raise Exception(\"ERROR: There not .netrc file or endpoint indicated in .netrc file.\")\n",
    "\n",
    "        # Post a token request and return resonse\n",
    "        token_url = f\"https://{self.CMR}/legacy-services/rest/tokens\"\n",
    "        token_xml = (f\"<token>\"\n",
    "                        f\"<username>{username}</username>\"\n",
    "                        f\"<password>{password}</password>\"\n",
    "                        f\"<client_id>{client_id}</client_id>\"\n",
    "                        f\"<user_ip_address>{ip_address}</user_ip_address>\"\n",
    "                    f\"</token>\")\n",
    "        headers = {\"Content-Type\" : \"application/xml\", \"Accept\" : \"application/json\"}\n",
    "        self._token = requests.post(url=token_url, data=token_xml, headers=headers) \\\n",
    "            .json()[\"token\"][\"id\"]\n",
    "\n",
    "    def delete_token(self):\n",
    "        \"\"\"Delete CMR authentication token.\"\"\"\n",
    "\n",
    "        token_url = f\"https://{self.CMR}/legacy-services/rest/tokens\"\n",
    "        headers = {\"Content-Type\" : \"application/xml\", \"Accept\" : \"application/json\"}\n",
    "        try:\n",
    "            res = requests.request(\"DELETE\", f\"{token_url}/{self._token}\", headers=headers)\n",
    "            return res.status_code\n",
    "        except Exception as e:\n",
    "            raise Exception(f\"Failed to delete token: {e}.\")\n",
    "\n",
    "    def run_query(self, shortname, provider, temporal_range):\n",
    "        \"\"\"Run query on collection referenced by shortname from provider.\"\"\"\n",
    "\n",
    "        url = f\"https://{self.CMR}/search/granules.umm_json\"\n",
    "        params = {\n",
    "                    \"provider\" : provider, \n",
    "                    \"ShortName\" : shortname, \n",
    "                    \"token\" : self._token,\n",
    "                    \"scroll\" : \"true\",\n",
    "                    \"page_size\" : 2000,\n",
    "                    \"sort_key\" : \"start_date\",\n",
    "                    \"temporal\" : temporal_range\n",
    "                }\n",
    "        res = requests.get(url=url, params=params)        \n",
    "        coll = res.json()\n",
    "        return [url[\"URL\"] for res in coll[\"items\"] for url in res[\"umm\"][\"RelatedUrls\"] if url[\"Type\"] == \"GET DATA VIA DIRECT ACCESS\"]\n",
    "\n",
    "    def login_and_run_query(self, short_name, provider, temporal_range):\n",
    "        \"\"\"Log into CMR and run query to retrieve a list of S3 URLs.\"\"\"\n",
    "\n",
    "        try:\n",
    "            # Login and retrieve token\n",
    "            self.login()\n",
    "            client_id = \"podaac_cmr_client\"\n",
    "            hostname = gethostname()\n",
    "            ip_addr = gethostbyname(hostname)\n",
    "            self.get_token(client_id, ip_addr)\n",
    "\n",
    "            # Run query\n",
    "            s3_urls = self.run_query(short_name, provider, temporal_range)\n",
    "            s3_urls.sort()\n",
    "\n",
    "            # Clean up and delete token\n",
    "            self.delete_token()            \n",
    "        except Exception:\n",
    "            raise\n",
    "        else:\n",
    "            # Return list\n",
    "            return s3_urls"
   ]
  },
  {
   "cell_type": "markdown",
   "id": "e8d48c83-71e1-4d40-bad3-207a7775adf0",
   "metadata": {},
   "source": [
    "# Let's try VIIRS + L2P"
   ]
  },
  {
   "cell_type": "markdown",
   "id": "e5b5392c-ffc1-41c6-943b-5751e6c2de03",
   "metadata": {},
   "source": [
    "## Init"
   ]
  },
  {
   "cell_type": "code",
   "execution_count": 3,
   "id": "73c438fd-0c54-49d2-b998-40c0ab1afb9b",
   "metadata": {},
   "outputs": [],
   "source": [
    "viirs_s3 = S3List()"
   ]
  },
  {
   "cell_type": "code",
   "execution_count": 4,
   "id": "3a932d28-ebd1-4f98-bfa7-c7b1d1e5d7a4",
   "metadata": {},
   "outputs": [],
   "source": [
    "short_name = 'VIIRS_N20-STAR-L2P-v2.80'\n",
    "provider = 'POCLOUD'\n",
    "temporal_range = '2022-07-18T00:00:00Z,2022-07-18T23:59:59Z'"
   ]
  },
  {
   "cell_type": "markdown",
   "id": "bd7554d9-a939-4425-a718-cace277d7a68",
   "metadata": {},
   "source": [
    "## Git it a shot"
   ]
  },
  {
   "cell_type": "markdown",
   "id": "d926cfdd-85d6-48c0-8bec-32c38cfcab2f",
   "metadata": {},
   "source": [
    "### First attempt failed due to no .netrc file"
   ]
  },
  {
   "cell_type": "code",
   "execution_count": 6,
   "id": "74cb1e5a-ebe0-424c-b66d-456f316b3b30",
   "metadata": {},
   "outputs": [
    {
     "ename": "NetrcParseError",
     "evalue": "~/.netrc access too permissive: access permissions must restrict access to only the owner (/home/xavier/.netrc, line 3)",
     "output_type": "error",
     "traceback": [
      "\u001b[0;31m---------------------------------------------------------------------------\u001b[0m",
      "\u001b[0;31mNetrcParseError\u001b[0m                           Traceback (most recent call last)",
      "\u001b[0;32m/tmp/ipykernel_18029/2241800543.py\u001b[0m in \u001b[0;36m<module>\u001b[0;34m\u001b[0m\n\u001b[0;32m----> 1\u001b[0;31m \u001b[0ms3_uris\u001b[0m \u001b[0;34m=\u001b[0m \u001b[0mviirs_s3\u001b[0m\u001b[0;34m.\u001b[0m\u001b[0mlogin_and_run_query\u001b[0m\u001b[0;34m(\u001b[0m\u001b[0mshort_name\u001b[0m\u001b[0;34m,\u001b[0m \u001b[0mprovider\u001b[0m\u001b[0;34m,\u001b[0m \u001b[0mtemporal_range\u001b[0m\u001b[0;34m)\u001b[0m\u001b[0;34m\u001b[0m\u001b[0;34m\u001b[0m\u001b[0m\n\u001b[0m",
      "\u001b[0;32m/tmp/ipykernel_18029/3332817036.py\u001b[0m in \u001b[0;36mlogin_and_run_query\u001b[0;34m(self, short_name, provider, temporal_range)\u001b[0m\n\u001b[1;32m     94\u001b[0m         \u001b[0;32mtry\u001b[0m\u001b[0;34m:\u001b[0m\u001b[0;34m\u001b[0m\u001b[0;34m\u001b[0m\u001b[0m\n\u001b[1;32m     95\u001b[0m             \u001b[0;31m# Login and retrieve token\u001b[0m\u001b[0;34m\u001b[0m\u001b[0;34m\u001b[0m\u001b[0m\n\u001b[0;32m---> 96\u001b[0;31m             \u001b[0mself\u001b[0m\u001b[0;34m.\u001b[0m\u001b[0mlogin\u001b[0m\u001b[0;34m(\u001b[0m\u001b[0;34m)\u001b[0m\u001b[0;34m\u001b[0m\u001b[0;34m\u001b[0m\u001b[0m\n\u001b[0m\u001b[1;32m     97\u001b[0m             \u001b[0mclient_id\u001b[0m \u001b[0;34m=\u001b[0m \u001b[0;34m\"podaac_cmr_client\"\u001b[0m\u001b[0;34m\u001b[0m\u001b[0;34m\u001b[0m\u001b[0m\n\u001b[1;32m     98\u001b[0m             \u001b[0mhostname\u001b[0m \u001b[0;34m=\u001b[0m \u001b[0mgethostname\u001b[0m\u001b[0;34m(\u001b[0m\u001b[0;34m)\u001b[0m\u001b[0;34m\u001b[0m\u001b[0;34m\u001b[0m\u001b[0m\n",
      "\u001b[0;32m/tmp/ipykernel_18029/3332817036.py\u001b[0m in \u001b[0;36mlogin\u001b[0;34m(self)\u001b[0m\n\u001b[1;32m     16\u001b[0m \u001b[0;34m\u001b[0m\u001b[0m\n\u001b[1;32m     17\u001b[0m         \u001b[0;32mtry\u001b[0m\u001b[0;34m:\u001b[0m\u001b[0;34m\u001b[0m\u001b[0;34m\u001b[0m\u001b[0m\n\u001b[0;32m---> 18\u001b[0;31m             \u001b[0musername\u001b[0m\u001b[0;34m,\u001b[0m \u001b[0m_\u001b[0m\u001b[0;34m,\u001b[0m \u001b[0mpassword\u001b[0m \u001b[0;34m=\u001b[0m \u001b[0mnetrc\u001b[0m\u001b[0;34m.\u001b[0m\u001b[0mnetrc\u001b[0m\u001b[0;34m(\u001b[0m\u001b[0;34m)\u001b[0m\u001b[0;34m.\u001b[0m\u001b[0mauthenticators\u001b[0m\u001b[0;34m(\u001b[0m\u001b[0mself\u001b[0m\u001b[0;34m.\u001b[0m\u001b[0mURS\u001b[0m\u001b[0;34m)\u001b[0m\u001b[0;34m\u001b[0m\u001b[0;34m\u001b[0m\u001b[0m\n\u001b[0m\u001b[1;32m     19\u001b[0m         \u001b[0;32mexcept\u001b[0m \u001b[0;34m(\u001b[0m\u001b[0mFileNotFoundError\u001b[0m\u001b[0;34m,\u001b[0m \u001b[0mTypeError\u001b[0m\u001b[0;34m)\u001b[0m\u001b[0;34m:\u001b[0m\u001b[0;34m\u001b[0m\u001b[0;34m\u001b[0m\u001b[0m\n\u001b[1;32m     20\u001b[0m             \u001b[0;32mraise\u001b[0m \u001b[0mException\u001b[0m\u001b[0;34m(\u001b[0m\u001b[0;34m\"ERROR: There not .netrc file or endpoint indicated in .netrc file.\"\u001b[0m\u001b[0;34m)\u001b[0m\u001b[0;34m\u001b[0m\u001b[0;34m\u001b[0m\u001b[0m\n",
      "\u001b[0;32m~/anaconda3/lib/python3.9/netrc.py\u001b[0m in \u001b[0;36m__init__\u001b[0;34m(self, file)\u001b[0m\n\u001b[1;32m     28\u001b[0m         \u001b[0mself\u001b[0m\u001b[0;34m.\u001b[0m\u001b[0mmacros\u001b[0m \u001b[0;34m=\u001b[0m \u001b[0;34m{\u001b[0m\u001b[0;34m}\u001b[0m\u001b[0;34m\u001b[0m\u001b[0;34m\u001b[0m\u001b[0m\n\u001b[1;32m     29\u001b[0m         \u001b[0;32mwith\u001b[0m \u001b[0mopen\u001b[0m\u001b[0;34m(\u001b[0m\u001b[0mfile\u001b[0m\u001b[0;34m)\u001b[0m \u001b[0;32mas\u001b[0m \u001b[0mfp\u001b[0m\u001b[0;34m:\u001b[0m\u001b[0;34m\u001b[0m\u001b[0;34m\u001b[0m\u001b[0m\n\u001b[0;32m---> 30\u001b[0;31m             \u001b[0mself\u001b[0m\u001b[0;34m.\u001b[0m\u001b[0m_parse\u001b[0m\u001b[0;34m(\u001b[0m\u001b[0mfile\u001b[0m\u001b[0;34m,\u001b[0m \u001b[0mfp\u001b[0m\u001b[0;34m,\u001b[0m \u001b[0mdefault_netrc\u001b[0m\u001b[0;34m)\u001b[0m\u001b[0;34m\u001b[0m\u001b[0;34m\u001b[0m\u001b[0m\n\u001b[0m\u001b[1;32m     31\u001b[0m \u001b[0;34m\u001b[0m\u001b[0m\n\u001b[1;32m     32\u001b[0m     \u001b[0;32mdef\u001b[0m \u001b[0m_parse\u001b[0m\u001b[0;34m(\u001b[0m\u001b[0mself\u001b[0m\u001b[0;34m,\u001b[0m \u001b[0mfile\u001b[0m\u001b[0;34m,\u001b[0m \u001b[0mfp\u001b[0m\u001b[0;34m,\u001b[0m \u001b[0mdefault_netrc\u001b[0m\u001b[0;34m)\u001b[0m\u001b[0;34m:\u001b[0m\u001b[0;34m\u001b[0m\u001b[0;34m\u001b[0m\u001b[0m\n",
      "\u001b[0;32m~/anaconda3/lib/python3.9/netrc.py\u001b[0m in \u001b[0;36m_parse\u001b[0;34m(self, file, fp, default_netrc)\u001b[0m\n\u001b[1;32m    102\u001b[0m                                 file, lexer.lineno)\n\u001b[1;32m    103\u001b[0m                         \u001b[0;32mif\u001b[0m \u001b[0;34m(\u001b[0m\u001b[0mprop\u001b[0m\u001b[0;34m.\u001b[0m\u001b[0mst_mode\u001b[0m \u001b[0;34m&\u001b[0m \u001b[0;34m(\u001b[0m\u001b[0mstat\u001b[0m\u001b[0;34m.\u001b[0m\u001b[0mS_IRWXG\u001b[0m \u001b[0;34m|\u001b[0m \u001b[0mstat\u001b[0m\u001b[0;34m.\u001b[0m\u001b[0mS_IRWXO\u001b[0m\u001b[0;34m)\u001b[0m\u001b[0;34m)\u001b[0m\u001b[0;34m:\u001b[0m\u001b[0;34m\u001b[0m\u001b[0;34m\u001b[0m\u001b[0m\n\u001b[0;32m--> 104\u001b[0;31m                             raise NetrcParseError(\n\u001b[0m\u001b[1;32m    105\u001b[0m                                \u001b[0;34m\"~/.netrc access too permissive: access\"\u001b[0m\u001b[0;34m\u001b[0m\u001b[0;34m\u001b[0m\u001b[0m\n\u001b[1;32m    106\u001b[0m                                \u001b[0;34m\" permissions must restrict access to only\"\u001b[0m\u001b[0;34m\u001b[0m\u001b[0;34m\u001b[0m\u001b[0m\n",
      "\u001b[0;31mNetrcParseError\u001b[0m: ~/.netrc access too permissive: access permissions must restrict access to only the owner (/home/xavier/.netrc, line 3)"
     ]
    }
   ],
   "source": [
    "s3_uris = viirs_s3.login_and_run_query(short_name, provider, temporal_range)"
   ]
  },
  {
   "cell_type": "markdown",
   "id": "0edb3eb9-fc62-479b-9bf8-355dc9b8308b",
   "metadata": {},
   "source": [
    "----"
   ]
  },
  {
   "cell_type": "markdown",
   "id": "3cca184b-5c24-4861-855c-f27b5346493a",
   "metadata": {},
   "source": [
    "# Generate my .netrc file"
   ]
  },
  {
   "cell_type": "code",
   "execution_count": 7,
   "id": "a7302393-d7f6-4d62-bca3-d3946693d0e7",
   "metadata": {},
   "outputs": [
    {
     "ename": "NameError",
     "evalue": "name 'system' is not defined",
     "output_type": "error",
     "traceback": [
      "\u001b[0;31m---------------------------------------------------------------------------\u001b[0m",
      "\u001b[0;31mNameError\u001b[0m                                 Traceback (most recent call last)",
      "\u001b[0;32m/tmp/ipykernel_18029/334132254.py\u001b[0m in \u001b[0;36m<module>\u001b[0;34m\u001b[0m\n\u001b[1;32m      4\u001b[0m \u001b[0;34m\u001b[0m\u001b[0m\n\u001b[1;32m      5\u001b[0m \u001b[0;31m# Determine the OS (Windows machines usually use an '_netrc' file)\u001b[0m\u001b[0;34m\u001b[0m\u001b[0;34m\u001b[0m\u001b[0m\n\u001b[0;32m----> 6\u001b[0;31m \u001b[0mnetrc_name\u001b[0m \u001b[0;34m=\u001b[0m \u001b[0;34m\"_netrc\"\u001b[0m \u001b[0;32mif\u001b[0m \u001b[0msystem\u001b[0m\u001b[0;34m(\u001b[0m\u001b[0;34m)\u001b[0m\u001b[0;34m==\u001b[0m\u001b[0;34m\"Windows\"\u001b[0m \u001b[0;32melse\u001b[0m \u001b[0;34m\".netrc\"\u001b[0m\u001b[0;34m\u001b[0m\u001b[0;34m\u001b[0m\u001b[0m\n\u001b[0m\u001b[1;32m      7\u001b[0m \u001b[0;34m\u001b[0m\u001b[0m\n\u001b[1;32m      8\u001b[0m \u001b[0;31m# Determine if netrc file exists, and if so, if it includes NASA Earthdata Login Credentials\u001b[0m\u001b[0;34m\u001b[0m\u001b[0;34m\u001b[0m\u001b[0m\n",
      "\u001b[0;31mNameError\u001b[0m: name 'system' is not defined"
     ]
    }
   ],
   "source": [
    "urs = 'urs.earthdata.nasa.gov'    # Earthdata URL endpoint for authentication\n",
    "prompts = ['Enter NASA Earthdata Login Username: ',\n",
    "           'Enter NASA Earthdata Login Password: ']\n",
    "\n",
    "# Determine the OS (Windows machines usually use an '_netrc' file)\n",
    "netrc_name = \"_netrc\" if system()==\"Windows\" else \".netrc\"\n",
    "\n",
    "# Determine if netrc file exists, and if so, if it includes NASA Earthdata Login Credentials\n",
    "try:\n",
    "    netrcDir = os.path.expanduser(f\"~/{netrc_name}\")\n",
    "    netrc(netrcDir).authenticators(urs)[0]\n",
    "\n",
    "# Below, create a netrc file and prompt user for NASA Earthdata Login Username and Password\n",
    "except FileNotFoundError:\n",
    "    homeDir = os.path.expanduser(\"~\")\n",
    "    Popen('touch {0}{2} | echo machine {1} >> {0}{2}'.format(homeDir + os.sep, urs, netrc_name), shell=True)\n",
    "    Popen('echo login {} >> {}{}'.format(getpass(prompt=prompts[0]), homeDir + os.sep, netrc_name), shell=True)\n",
    "    Popen('echo \\'password {} \\'>> {}{}'.format(getpass(prompt=prompts[1]), homeDir + os.sep, netrc_name), shell=True)\n",
    "    # Set restrictive permissions\n",
    "    Popen('chmod 0600 {0}{1}'.format(homeDir + os.sep, netrc_name), shell=True)\n",
    "\n",
    "    # Determine OS and edit netrc file if it exists but is not set up for NASA Earthdata Login\n",
    "except TypeError:\n",
    "    homeDir = os.path.expanduser(\"~\")\n",
    "    Popen('echo machine {1} >> {0}{2}'.format(homeDir + os.sep, urs, netrc_name), shell=True)\n",
    "    Popen('echo login {} >> {}{}'.format(getpass(prompt=prompts[0]), homeDir + os.sep, netrc_name), shell=True)\n",
    "    Popen('echo \\'password {} \\'>> {}{}'.format(getpass(prompt=prompts[1]), homeDir + os.sep, netrc_name), shell=True)"
   ]
  },
  {
   "cell_type": "code",
   "execution_count": null,
   "id": "76ae349c-8321-48ae-84a4-ff58b014ae71",
   "metadata": {},
   "outputs": [],
   "source": []
  }
 ],
 "metadata": {
  "kernelspec": {
   "display_name": "Python 3 (ipykernel)",
   "language": "python",
   "name": "python3"
  },
  "language_info": {
   "codemirror_mode": {
    "name": "ipython",
    "version": 3
   },
   "file_extension": ".py",
   "mimetype": "text/x-python",
   "name": "python",
   "nbconvert_exporter": "python",
   "pygments_lexer": "ipython3",
   "version": "3.9.7"
  }
 },
 "nbformat": 4,
 "nbformat_minor": 5
}
